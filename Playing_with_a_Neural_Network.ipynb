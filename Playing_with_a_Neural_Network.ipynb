{
  "nbformat": 4,
  "nbformat_minor": 0,
  "metadata": {
    "colab": {
      "name": "Playing with a Neural Network.ipynb",
      "provenance": [],
      "private_outputs": true,
      "collapsed_sections": [],
      "authorship_tag": "ABX9TyNONEuAJ7xGNie3yu7N0nNS",
      "include_colab_link": true
    },
    "kernelspec": {
      "name": "python3",
      "display_name": "Python 3"
    },
    "accelerator": "GPU"
  },
  "cells": [
    {
      "cell_type": "markdown",
      "metadata": {
        "id": "view-in-github",
        "colab_type": "text"
      },
      "source": [
        "<a href=\"https://colab.research.google.com/github/JohnnyCoRuyzo/Control_Inteligente/blob/New_Projects/Playing_with_a_Neural_Network.ipynb\" target=\"_parent\"><img src=\"https://colab.research.google.com/assets/colab-badge.svg\" alt=\"Open In Colab\"/></a>"
      ]
    },
    {
      "cell_type": "code",
      "metadata": {
        "id": "XbnMoxQWR5iF",
        "colab_type": "code",
        "colab": {}
      },
      "source": [
        "import numpy as np\n",
        "import scipy as sc\n",
        "import matplotlib.pyplot as plt\n",
        "\n",
        "import keras\n",
        "\n",
        "print(\"\")"
      ],
      "execution_count": null,
      "outputs": []
    },
    {
      "cell_type": "markdown",
      "metadata": {
        "id": "pB8L0fxaV2E1",
        "colab_type": "text"
      },
      "source": [
        "# CLASE DE LA CAPA DE LA RED"
      ]
    },
    {
      "cell_type": "code",
      "metadata": {
        "id": "hpLdrgGDSmDz",
        "colab_type": "code",
        "colab": {}
      },
      "source": [
        "class neural_layer():\n",
        "  \n",
        "  def __init__(self, n_conn, n_neur, act_f):\n",
        "    self.act_f = act_f\n",
        "    self.b = np.random.rand(1, n_neur) * 2 - 1\n",
        "    self.W = np.random.rand(n_conn, n_neur) * 2 - 1\n",
        "    \n",
        "print(\"\")"
      ],
      "execution_count": null,
      "outputs": []
    },
    {
      "cell_type": "markdown",
      "metadata": {
        "id": "9pvI1Un6V_3_",
        "colab_type": "text"
      },
      "source": [
        "# FUNCIONES DE ACTIVACIÓN"
      ]
    },
    {
      "cell_type": "code",
      "metadata": {
        "id": "sCXo8z_GVs3y",
        "colab_type": "code",
        "colab": {}
      },
      "source": [
        "sigm = (lambda x: 1 / (1 + np.e ** (-x)),\n",
        "         lambda x: x * (1 - x))\n",
        " \n",
        "relu = lambda x: np.maximum(0,x)\n",
        "\n",
        "print(\"\")"
      ],
      "execution_count": null,
      "outputs": []
    },
    {
      "cell_type": "markdown",
      "metadata": {
        "id": "X1ALZNcYXOQs",
        "colab_type": "text"
      },
      "source": [
        "# CREACION DE CAPAS DE LA RED"
      ]
    },
    {
      "cell_type": "code",
      "metadata": {
        "id": "GeSqnrMpXIu2",
        "colab_type": "code",
        "colab": {}
      },
      "source": [
        "\n",
        "def create_nn(topology, act_f):\n",
        "  \n",
        "  nn = []\n",
        "   \n",
        "  for l, layer in enumerate(topology[:-1]):\n",
        "\n",
        "    nn.append(neural_layer(layer,topology[l+1],act_f))\n",
        "\n",
        "  return nn\n",
        "\n",
        "print(\"\")"
      ],
      "execution_count": null,
      "outputs": []
    },
    {
      "cell_type": "markdown",
      "metadata": {
        "id": "L08p2P5EzC2X",
        "colab_type": "text"
      },
      "source": [
        "# ALGORITMO DE ENTRENAMIENTO O PREDICCION"
      ]
    },
    {
      "cell_type": "code",
      "metadata": {
        "id": "mwLHFvUkY5q6",
        "colab_type": "code",
        "colab": {}
      },
      "source": [
        "def train(neural_net, X, Y, l2_cost, lr= 0.5, train = True): \n",
        "  \n",
        "  out = [(None,X)]\n",
        "\n",
        "  # Forward pass\n",
        "\n",
        "  for l, layer in enumerate(neural_net):\n",
        "\n",
        "    z = out[l][1] @ neural_net[l].W + neural_net[l].b\n",
        "    a = neural_net[l].act_f[0](z)\n",
        "\n",
        "    out.append((z,a))\n",
        "\n",
        "  if train:\n",
        "\n",
        "    #Backward pass \n",
        "    deltas = []\n",
        "\n",
        "    for l in reversed(range(0, len(neural_net))):\n",
        "\n",
        "      z = out[l+1][0]\n",
        "      a = out[l+1][1]\n",
        "\n",
        "      if (l == len(neural_net) - 1):\n",
        "        deltas.insert(0, l2_cost[1](a,Y) * neural_net[l].act_f[1](a))\n",
        "      else:\n",
        "        deltas.insert(0, deltas[0] @ _W.T * neural_net[l].act_f[1](a))\n",
        "        \n",
        "      _W = neural_net[l].W\n",
        "\n",
        "      #Gradient descent\n",
        "      neural_net[l].b = neural_net[l].b - np.mean(deltas[0], axis=0, keepdims=True) * lr\n",
        "      neural_net[l].W = neural_net[l].W - out[l][1].T @ deltas[0] * lr\n",
        "\n",
        "  return out[-1][1]\n",
        "\n",
        "print(\"\")"
      ],
      "execution_count": null,
      "outputs": []
    },
    {
      "cell_type": "markdown",
      "metadata": {
        "id": "3fDWg0NoSdhG",
        "colab_type": "text"
      },
      "source": [
        "# CREAR EL DATASET "
      ]
    },
    {
      "cell_type": "code",
      "metadata": {
        "id": "ckcsqheqSf-u",
        "colab_type": "code",
        "colab": {}
      },
      "source": [
        "from sklearn.datasets import make_moons\n",
        "\n",
        "# Numero de muestras de los datos.\n",
        "nS = 500\n",
        "\n",
        "def twospirals(n_points, noise=.5):\n",
        "    \"\"\"\n",
        "     Returns the two spirals dataset.\n",
        "    \"\"\"\n",
        "    n = np.sqrt(np.random.rand(n_points,1)) * 780 * (2*np.pi)/360\n",
        "    d1x = -np.cos(n)*n + np.random.rand(n_points,1) * noise \n",
        "    d1y = np.sin(n)*n + np.random.rand(n_points,1) * noise /12\n",
        "    return (np.vstack((np.hstack((d1x,d1y)),np.hstack((-d1x,-d1y)))), \n",
        "            np.hstack((np.zeros(n_points),np.ones(n_points))))\n",
        "\n",
        "X,Y = twospirals (n_points=nS, noise= 0.05)\n",
        "\n",
        "Xt = np.zeros((2*nS,4))\n",
        "\n",
        "Xt[:,0] = X[:,0]\n",
        "Xt[:,1] = X[:,1]\n",
        "Xt[:,2] = np.sin(X[:,0])\n",
        "Xt[:,3] = np.sin(X[:,1])\n",
        "\n",
        "Y = Y[:, np.newaxis]\n",
        "\n",
        "plt.scatter(X[Y[:,0] == 0,0],X[Y[:,0] == 0,1], c=\"skyblue\")\n",
        "plt.scatter(X[Y[:,0] == 1,0],X[Y[:,0] == 1,1], c=\"salmon\")"
      ],
      "execution_count": null,
      "outputs": []
    },
    {
      "cell_type": "markdown",
      "metadata": {
        "id": "DRgFcVQOpN0Z",
        "colab_type": "text"
      },
      "source": [
        "# ENTRENAMIENTO"
      ]
    },
    {
      "cell_type": "code",
      "metadata": {
        "id": "JGCc-AfJpRJe",
        "colab_type": "code",
        "colab": {}
      },
      "source": [
        "import time\n",
        "from IPython.display import clear_output\n",
        "\n",
        "# Numero de registros de los datos.\n",
        "n = 5000\n",
        "\n",
        "# Cantidad de caracteristicas de los datos\n",
        "p = 4\n",
        "\n",
        "# Learning Rate\n",
        "lr = 0.001\n",
        "\n",
        "topology = [p, 30, 10, 5]\n",
        "\n",
        "neural_n = create_nn(topology,sigm)\n",
        "\n",
        "loss = []\n",
        "\n",
        "l2_cost = (lambda Yp, Yr: np.mean((Yp - Yr) ** 2),\n",
        "           lambda Yp, Yr: (Yp - Yr))\n",
        "\n",
        "for i in range(n):\n",
        "\n",
        "  pY = train(neural_n, Xt, Y, l2_cost, lr)\n",
        "\n",
        "  if i%10 == 0:\n",
        "\n",
        "    loss.append(l2_cost[0](pY,Y))\n",
        "\n",
        "    res = 100\n",
        "    \n",
        "    _x0 = np.linspace(-15, 15, res)\n",
        "    _x1 = np.linspace(-15, 15, res)\n",
        "\n",
        "    _Y = np.zeros((res,res))\n",
        "\n",
        "    for i0, x0 in enumerate(_x0):\n",
        "      for i1, x1 in enumerate(_x1):\n",
        "        _Y[i0, i1] = train(neural_n, np.array([[x0, x1, np.sin(x0), np.sin(x1)]]), Y, l2_cost, train = False)[0][0]\n",
        "        if (_Y[i0,i1] < 0.5):\n",
        "          _Y[i0,i1] = 0\n",
        "        else: \n",
        "          _Y[i0,i1] = 1\n",
        "\n",
        "    plt.pcolormesh(_x0,_x1,_Y,cmap=\"coolwarm\")\n",
        "    plt.colorbar()\n",
        "    plt.axis(\"equal\")\n",
        "\n",
        "    plt.scatter(X[Y[:,0] == 0, 0],X[Y[:,0] == 0, 1], c=\"skyblue\")\n",
        "    plt.scatter(X[Y[:,0] == 1, 0],X[Y[:,0] == 1, 1], c=\"salmon\")\n",
        "\n",
        "    clear_output(wait=True)\n",
        "    plt.show()\n",
        "    plt.plot(range(len(loss)), loss)\n",
        "    plt.show()\n",
        "    time.sleep(0.5)\n",
        "     "
      ],
      "execution_count": null,
      "outputs": []
    }
  ]
}